{
 "cells": [
  {
   "cell_type": "code",
   "execution_count": 1,
   "id": "5ce0132d-e8e7-40eb-a837-0067792b8d19",
   "metadata": {
    "tags": []
   },
   "outputs": [],
   "source": [
    "import pandas as pd\n",
    "import numpy as np\n",
    "from scipy.signal import butter, filtfilt, hilbert\n",
    "import json\n",
    "from tqdm import tqdm\n",
    "import h5py\n",
    "import multiprocessing"
   ]
  },
  {
   "cell_type": "code",
   "execution_count": 2,
   "id": "03a1372e-62af-4b5d-8620-2569b5a90497",
   "metadata": {},
   "outputs": [],
   "source": [
    "def load_data(root, subject):\n",
    "    data = pd.read_csv(f'{root}/{subject}/{subject}_data.csv', header=None)\n",
    "    with open(f'{root}/{subject}/{subject}_param.json', 'r') as file:\n",
    "        param = json.load(file)\n",
    "    if len(param['channel_id_labels']) == data.shape[1]:    \n",
    "        print(f'Loaded {data.shape[0]} datapoints and {len(param.keys())} parameters for {data.shape[1]} channels')\n",
    "    else:\n",
    "        print('Error loading data')\n",
    "    return data, param"
   ]
  },
  {
   "cell_type": "code",
   "execution_count": 3,
   "id": "413abea8-ac45-41fc-a0df-1b9e79b8a3e7",
   "metadata": {},
   "outputs": [],
   "source": [
    "def extract_params(param, datashape):\n",
    "    Nch = datashape[1]\n",
    "    sample_rate = param['sample_rate']\n",
    "    tperm = param['tperm']\n",
    "    Nperm = param['Nperm']\n",
    "    sbin = round(param['tbin'] * sample_rate)\n",
    "    sstp = round(param['tstp'] * sample_rate)\n",
    "    rT = np.arange(0, datashape[0]-sbin, sstp)\n",
    "    Nt = len(rT)\n",
    "    t = (rT + sbin / 2) / sample_rate\n",
    "    rP = np.column_stack((param['fP'][:-1], param['fP'][1:]))\n",
    "    rA = np.column_stack((param['fA'][:-1], param['fA'][1:]))\n",
    "    NP = rP.shape[0]\n",
    "    NA = rA.shape[0]\n",
    "    edges = np.arange(-np.pi, np.pi+param['delta'], param['delta'])\n",
    "    x = edges[:-1] + param['delta'] / 2\n",
    "    Nx = len(x)\n",
    "    return Nch, sample_rate, tperm, Nperm, sbin, sstp, rT, Nt, t, rP, rA, NP, NA, edges, x, Nx"
   ]
  },
  {
   "cell_type": "code",
   "execution_count": 5,
   "id": "9e30d11b-e5aa-4f04-a41f-29a70276ae0c",
   "metadata": {},
   "outputs": [],
   "source": [
    "def save_results(PACmi, root, subject):\n",
    "    PACmi_transposed = np.transpose(PACmi, (4, 3, 2, 1, 0))\n",
    "    filename = f\"{root}/{subject}/{subject}_PACmi.h5\"\n",
    "    with h5py.File(filename, 'w') as f:\n",
    "        # Save the array to the file\n",
    "        f.create_dataset('PACmi', data=PACmi_transposed)"
   ]
  },
  {
   "cell_type": "code",
   "execution_count": 4,
   "id": "4b99c464-fb17-4de8-86b1-08795fd72bfc",
   "metadata": {},
   "outputs": [
    {
     "name": "stdout",
     "output_type": "stream",
     "text": [
      "Loaded 2914304 datapoints and 10 parameters for 36 channels\n",
      "2914304\n",
      "36\n"
     ]
    }
   ],
   "source": [
    "root = '/Users/tnl/matlab/sEEG_proc'\n",
    "subject = 'HUP241_RID890'\n",
    "data, param = load_data(root, subject)\n",
    "Nch, sample_rate, tperm, Nperm, sbin, sstp, rT, Nt, t, rP, rA, NP, NA, edges, x, Nx = extract_params(param, data.shape)"
   ]
  },
  {
   "cell_type": "code",
   "execution_count": 13,
   "id": "46ce844f-c847-44ee-ac5e-68713d76b454",
   "metadata": {},
   "outputs": [
    {
     "data": {
      "text/plain": [
       "(245760, 44)"
      ]
     },
     "execution_count": 13,
     "metadata": {},
     "output_type": "execute_result"
    }
   ],
   "source": [
    "ich = 0\n",
    "tmi = np.zeros((NP, NA, Nt))\n",
    "tmip = np.zeros((NP, NA, Nt))\n",
    "data_numpy = data[ich].to_numpy()\n",
    "log_Nx = np.log(Nx)\n",
    "iP = 0\n",
    "\n",
    "bP, aP = butter(2, rP[iP, :] / (sample_rate / 2), btype='band')\n",
    "P = np.angle(hilbert(filtfilt(bP, aP, data[ich].to_numpy())))\n",
    "Pbin = np.transpose(np.vstack([np.digitize(P[t1:t1+sbin], edges) for t1 in rT]))\n",
    "Pbin.shape"
   ]
  },
  {
   "cell_type": "code",
   "execution_count": 14,
   "id": "20a76de4-b9b0-4fe8-b66e-0f89be696b1c",
   "metadata": {},
   "outputs": [],
   "source": [
    "iA = 0\n",
    "bA, aA = butter(2, rA[iA, :] / (sample_rate / 2), btype='band')\n",
    "A = np.abs(hilbert(filtfilt(bA, aA, data_numpy)))\n",
    "PAC = np.zeros((Nch, NP, NA, Nt, Nx))"
   ]
  },
  {
   "cell_type": "code",
   "execution_count": 22,
   "id": "56f0521f-4e87-4648-bbd7-b440a4f8feda",
   "metadata": {},
   "outputs": [],
   "source": [
    "for iT in range(Nt):\n",
    "    cA = A[rT[iT]:rT[iT]+sbin]\n",
    "    cAm = np.array([np.mean(cA[Pbin[:, iT] == jj+1]) for jj in range(Nx)])\n",
    "    PAC[ich, iP, iA, iT, :] = cAm\n",
    "    cAm /= np.sum(cAm)\n",
    "    cAm[cAm == 0] = 1e-10\n",
    "    tmi[iP, iA, iT] = (log_Nx + np.sum(cAm * np.log(cAm))) / log_Nx"
   ]
  },
  {
   "cell_type": "code",
   "execution_count": 18,
   "id": "6aa8e2c2-1f14-4ea5-a558-b9483853c58f",
   "metadata": {},
   "outputs": [],
   "source": [
    "MIperm = np.zeros((Nperm, Nt))\n",
    "iperm = 0\n",
    "tshift = tperm[0] + np.diff(tperm)[0] * np.random.rand()\n",
    "nshift = round(tshift * sample_rate)\n",
    "Ashift = np.roll(A, nshift)"
   ]
  },
  {
   "cell_type": "code",
   "execution_count": 24,
   "id": "a9d46dac-9b56-4901-8bd2-71e3802d077e",
   "metadata": {},
   "outputs": [],
   "source": [
    "def calculate_MI(Ashift, Pbin_slice, Nx, log_Nx):\n",
    "    cAm = np.array([np.mean(Ashift[Pbin_slice == jj+1]) for jj in range(Nx)])\n",
    "    cAm /= np.sum(cAm)\n",
    "    cAm[cAm == 0] = 1e-10\n",
    "    return (log_Nx + np.sum(cAm * np.log(cAm))) / log_Nx\n"
   ]
  },
  {
   "cell_type": "code",
   "execution_count": 25,
   "id": "137521f5-e966-4b7e-ad2b-049aafca1554",
   "metadata": {},
   "outputs": [],
   "source": [
    "for iT in range(Nt):\n",
    "                t1 = rT[iT]\n",
    "                t2 = rT[iT] + sbin\n",
    "                MIperm[iperm, iT] = calculate_MI(Ashift[t1:t2], Pbin[:, iT], Nx, log_Nx)"
   ]
  },
  {
   "cell_type": "code",
   "execution_count": 27,
   "id": "b3ec6dae-4f9d-44e3-985f-d765eb62bef4",
   "metadata": {},
   "outputs": [],
   "source": [
    "MIpermA = np.zeros((Nperm, Nt))\n",
    "for iT in range(Nt):\n",
    "    t1 = rT[iT]\n",
    "    t2 = rT[iT] + sbin\n",
    "    cA = Ashift[t1:t2]\n",
    "    cAm = np.zeros(Nx)\n",
    "    for jj in range(Nx):\n",
    "        cAm[jj] = np.mean(cA[Pbin[:, iT] == jj+1])\n",
    "        cAm /= np.sum(cAm)\n",
    "        cAm[cAm == 0] = 1e-10\n",
    "        MIpermA[iperm, iT] = (log_Nx + np.sum(cAm * np.log(cAm))) / log_Nx"
   ]
  },
  {
   "cell_type": "code",
   "execution_count": 32,
   "id": "c8ca00e8-2eef-45e7-963a-f60b5759b164",
   "metadata": {},
   "outputs": [
    {
     "data": {
      "text/plain": [
       "False"
      ]
     },
     "execution_count": 32,
     "metadata": {},
     "output_type": "execute_result"
    }
   ],
   "source": [
    "(MIperm == MIpermA).all()"
   ]
  },
  {
   "cell_type": "code",
   "execution_count": 47,
   "id": "072688ad-14e1-48b3-82f0-e7e5ae4f21f8",
   "metadata": {},
   "outputs": [],
   "source": [
    "iT = 0\n",
    "t1 = rT[iT]\n",
    "t2 = rT[iT] + sbin\n",
    "cA = A[t1:t2]\n",
    "cAm = np.zeros(Nx)"
   ]
  },
  {
   "cell_type": "code",
   "execution_count": 56,
   "id": "b0cae9c0-c914-4d95-ba10-1395450f0809",
   "metadata": {},
   "outputs": [
    {
     "data": {
      "text/plain": [
       "array([        nan, 18.60148554, 18.57019077, 18.55491346, 18.55011831,\n",
       "       18.52758127, 18.5256682 , 18.53360616, 18.6002194 , 18.66921464,\n",
       "       18.74652309, 18.75860608, 18.71290433, 18.68013297, 18.65824344,\n",
       "       18.6609928 ])"
      ]
     },
     "execution_count": 56,
     "metadata": {},
     "output_type": "execute_result"
    }
   ],
   "source": [
    "for jj in range(Nx):\n",
    "    cAm[jj] = np.mean(cA[Pbin[:, iT] == jj])\n",
    "cAm"
   ]
  },
  {
   "cell_type": "code",
   "execution_count": 57,
   "id": "f44b879c-fb54-4b6e-b2e8-1ccdaa8e6ecf",
   "metadata": {
    "scrolled": true
   },
   "outputs": [
    {
     "data": {
      "text/plain": [
       "array([18.60148554, 18.57019077, 18.55491346, 18.55011831, 18.52758127,\n",
       "       18.5256682 , 18.53360616, 18.6002194 , 18.66921464, 18.74652309,\n",
       "       18.75860608, 18.71290433, 18.68013297, 18.65824344, 18.6609928 ,\n",
       "       18.64698748])"
      ]
     },
     "execution_count": 57,
     "metadata": {},
     "output_type": "execute_result"
    }
   ],
   "source": [
    "for jj in range(Nx):\n",
    "    cAm[jj] = np.mean(cA[Pbin[:, iT] == jj+1])\n",
    "cAm"
   ]
  }
 ],
 "metadata": {
  "kernelspec": {
   "display_name": "Python 3 (ipykernel)",
   "language": "python",
   "name": "python3"
  },
  "language_info": {
   "codemirror_mode": {
    "name": "ipython",
    "version": 3
   },
   "file_extension": ".py",
   "mimetype": "text/x-python",
   "name": "python",
   "nbconvert_exporter": "python",
   "pygments_lexer": "ipython3",
   "version": "3.8.3"
  }
 },
 "nbformat": 4,
 "nbformat_minor": 5
}
