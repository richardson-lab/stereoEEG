{
 "cells": [
  {
   "cell_type": "code",
   "execution_count": 38,
   "id": "5ce0132d-e8e7-40eb-a837-0067792b8d19",
   "metadata": {
    "tags": []
   },
   "outputs": [],
   "source": [
    "import pandas as pd\n",
    "import numpy as np\n",
    "from scipy.signal import butter, filtfilt, hilbert\n",
    "import json\n",
    "import tqdm\n",
    "import h5py"
   ]
  },
  {
   "cell_type": "code",
   "execution_count": 2,
   "id": "05250b8b-4e96-4a06-be80-2b7bdf31df5d",
   "metadata": {
    "tags": []
   },
   "outputs": [],
   "source": [
    "# Load data\n",
    "root = '/Users/andrewgabros/Documents/MATLAB'\n",
    "subject = 'HUP247_RID921'\n",
    "\n",
    "data = pd.read_csv(f'{root}/{subject}/{subject}_data.csv', header=None)\n",
    "with open(f'{root}/{subject}/{subject}_param.json', 'r') as file:\n",
    "    param = json.load(file)"
   ]
  },
  {
   "cell_type": "code",
   "execution_count": 3,
   "id": "65eb3680-adc5-4dba-816c-727c176848a1",
   "metadata": {
    "tags": []
   },
   "outputs": [
    {
     "name": "stdout",
     "output_type": "stream",
     "text": [
      "Loaded 6590464 datapoints and 10 parameters for 11 channels\n"
     ]
    }
   ],
   "source": [
    "if len(param['channel_id_labels']) == data.shape[1]:    \n",
    "    print(f'Loaded {data.shape[0]} datapoints and {len(param.keys())} parameters for {data.shape[1]} channels')\n",
    "else:\n",
    "    print('Error loading data')"
   ]
  },
  {
   "cell_type": "code",
   "execution_count": 4,
   "id": "17275700-052c-4628-bd35-d8fb7d19603c",
   "metadata": {
    "tags": []
   },
   "outputs": [],
   "source": [
    "sample_rate = param['sample_rate']\n",
    "tperm = param['tperm']\n",
    "Nperm = param['Nperm']\n",
    "Nch = data.shape[1]"
   ]
  },
  {
   "cell_type": "code",
   "execution_count": 5,
   "id": "78c338f6-d2c2-4dc1-b8db-5ab6e318e3dc",
   "metadata": {
    "tags": []
   },
   "outputs": [],
   "source": [
    "sbin = round(param['tbin'] * sample_rate)\n",
    "sstp = round(param['tstp'] * sample_rate)\n",
    "rT = np.arange(0, data.shape[0]-sbin, sstp)\n",
    "Nt = len(rT)\n",
    "t = (rT + sbin / 2) / sample_rate\n",
    "rP = np.column_stack((param['fP'][:-1], param['fP'][1:]))\n",
    "rA = np.column_stack((param['fA'][:-1], param['fA'][1:]))\n",
    "NP = rP.shape[0]\n",
    "NA = rA.shape[0]\n",
    "edges = np.arange(-np.pi, np.pi+param['delta'], param['delta'])\n",
    "x = edges[:-1] + param['delta'] / 2\n",
    "Nx = len(x)\n",
    "PAC = np.zeros((Nch, NP, NA, Nt, Nx))\n",
    "PACmi = np.zeros((Nch, NP, NA, Nt, 5))"
   ]
  },
  {
   "cell_type": "code",
   "execution_count": 28,
   "id": "af0328d2-2bad-44a4-95bd-c627cd91e482",
   "metadata": {
    "tags": []
   },
   "outputs": [],
   "source": [
    "Nperm = 5"
   ]
  },
  {
   "cell_type": "code",
   "execution_count": 34,
   "id": "87613025-4046-4404-82f6-957f8ad10a3f",
   "metadata": {
    "tags": []
   },
   "outputs": [
    {
     "data": {
      "application/vnd.jupyter.widget-view+json": {
       "model_id": "15113724b985436f89976ffe3a25200e",
       "version_major": 2,
       "version_minor": 0
      },
      "text/plain": [
       "Channel:   0%|          | 0/2 [00:00<?, ?it/s]"
      ]
     },
     "metadata": {},
     "output_type": "display_data"
    },
    {
     "data": {
      "application/vnd.jupyter.widget-view+json": {
       "model_id": "",
       "version_major": 2,
       "version_minor": 0
      },
      "text/plain": [
       "Processing phase bin 1:   0%|          | 0/2 [00:00<?, ?it/s]"
      ]
     },
     "metadata": {},
     "output_type": "display_data"
    },
    {
     "data": {
      "application/vnd.jupyter.widget-view+json": {
       "model_id": "",
       "version_major": 2,
       "version_minor": 0
      },
      "text/plain": [
       "Processing amplitude bin 3:   0%|          | 0/2 [00:00<?, ?it/s]"
      ]
     },
     "metadata": {},
     "output_type": "display_data"
    },
    {
     "data": {
      "application/vnd.jupyter.widget-view+json": {
       "model_id": "",
       "version_major": 2,
       "version_minor": 0
      },
      "text/plain": [
       "Processing permutation test:   0%|          | 0/2 [00:00<?, ?it/s]"
      ]
     },
     "metadata": {},
     "output_type": "display_data"
    },
    {
     "data": {
      "application/vnd.jupyter.widget-view+json": {
       "model_id": "",
       "version_major": 2,
       "version_minor": 0
      },
      "text/plain": [
       "Processing permutation test:   0%|          | 0/2 [00:00<?, ?it/s]"
      ]
     },
     "metadata": {},
     "output_type": "display_data"
    },
    {
     "data": {
      "application/vnd.jupyter.widget-view+json": {
       "model_id": "",
       "version_major": 2,
       "version_minor": 0
      },
      "text/plain": [
       "Processing amplitude bin 1:   0%|          | 0/2 [00:00<?, ?it/s]"
      ]
     },
     "metadata": {},
     "output_type": "display_data"
    },
    {
     "data": {
      "application/vnd.jupyter.widget-view+json": {
       "model_id": "",
       "version_major": 2,
       "version_minor": 0
      },
      "text/plain": [
       "Processing permutation test:   0%|          | 0/2 [00:00<?, ?it/s]"
      ]
     },
     "metadata": {},
     "output_type": "display_data"
    },
    {
     "data": {
      "application/vnd.jupyter.widget-view+json": {
       "model_id": "",
       "version_major": 2,
       "version_minor": 0
      },
      "text/plain": [
       "Processing permutation test:   0%|          | 0/2 [00:00<?, ?it/s]"
      ]
     },
     "metadata": {},
     "output_type": "display_data"
    },
    {
     "data": {
      "application/vnd.jupyter.widget-view+json": {
       "model_id": "",
       "version_major": 2,
       "version_minor": 0
      },
      "text/plain": [
       "Processing phase bin 1:   0%|          | 0/2 [00:00<?, ?it/s]"
      ]
     },
     "metadata": {},
     "output_type": "display_data"
    },
    {
     "data": {
      "application/vnd.jupyter.widget-view+json": {
       "model_id": "",
       "version_major": 2,
       "version_minor": 0
      },
      "text/plain": [
       "Processing amplitude bin 1:   0%|          | 0/2 [00:00<?, ?it/s]"
      ]
     },
     "metadata": {},
     "output_type": "display_data"
    },
    {
     "data": {
      "application/vnd.jupyter.widget-view+json": {
       "model_id": "",
       "version_major": 2,
       "version_minor": 0
      },
      "text/plain": [
       "Processing permutation test:   0%|          | 0/2 [00:00<?, ?it/s]"
      ]
     },
     "metadata": {},
     "output_type": "display_data"
    },
    {
     "data": {
      "application/vnd.jupyter.widget-view+json": {
       "model_id": "",
       "version_major": 2,
       "version_minor": 0
      },
      "text/plain": [
       "Processing permutation test:   0%|          | 0/2 [00:00<?, ?it/s]"
      ]
     },
     "metadata": {},
     "output_type": "display_data"
    },
    {
     "data": {
      "application/vnd.jupyter.widget-view+json": {
       "model_id": "",
       "version_major": 2,
       "version_minor": 0
      },
      "text/plain": [
       "Processing amplitude bin 1:   0%|          | 0/2 [00:00<?, ?it/s]"
      ]
     },
     "metadata": {},
     "output_type": "display_data"
    },
    {
     "data": {
      "application/vnd.jupyter.widget-view+json": {
       "model_id": "",
       "version_major": 2,
       "version_minor": 0
      },
      "text/plain": [
       "Processing permutation test:   0%|          | 0/2 [00:00<?, ?it/s]"
      ]
     },
     "metadata": {},
     "output_type": "display_data"
    },
    {
     "data": {
      "application/vnd.jupyter.widget-view+json": {
       "model_id": "",
       "version_major": 2,
       "version_minor": 0
      },
      "text/plain": [
       "Processing permutation test:   0%|          | 0/2 [00:00<?, ?it/s]"
      ]
     },
     "metadata": {},
     "output_type": "display_data"
    }
   ],
   "source": [
    "for ich in tqdm(range(2), desc=\"Channel\", leave=True):\n",
    "    tmi = np.zeros((NP, NA, Nt))\n",
    "    mrl = np.zeros((NP, NA, Nt))\n",
    "    mu = np.zeros((NP, NA, Nt))\n",
    "    tmip = np.zeros((NP, NA, Nt))\n",
    "    mrlp = np.zeros((NP, NA, Nt))\n",
    "\n",
    "    for iP in tqdm(range(2), desc=\"Phase\", leave=False):\n",
    "        bP, aP = butter(2, rP[iP, :] / (sample_rate / 2), btype='band')\n",
    "        P = np.angle(hilbert(filtfilt(bP, aP, data[ich].to_numpy())))\n",
    "        Pbin = np.zeros((sbin, Nt), dtype=int)\n",
    "        for iT in range(Nt):\n",
    "            t1 = rT[iT]\n",
    "            t2 = rT[iT] + sbin\n",
    "            cP = P[t1:t2]\n",
    "            Pbin[:, iT] = np.digitize(cP, edges)\n",
    "            \n",
    "        for iA in tqdm(range(2), desc=\"Amplitude\", leave=False):\n",
    "            bA, aA = butter(2, rA[iA, :] / (sample_rate / 2), btype='band')\n",
    "            A = np.abs(hilbert(filtfilt(bA, aA, data[ich].to_numpy())))\n",
    "            for iT in range(Nt):\n",
    "                t1 = rT[iT]\n",
    "                t2 = rT[iT] + sbin\n",
    "                cA = A[t1:t2]\n",
    "                cAm = np.zeros(Nx)\n",
    "                for jj in range(Nx):\n",
    "                    cAm[jj] = np.mean(cA[Pbin[:, iT] == jj])\n",
    "                PAC[ich, iP, iA, iT, :] = cAm\n",
    "                cAm /= np.sum(cAm)\n",
    "                cAm[cAm == 0] = 1e-10\n",
    "                tmi[iP, iA, iT] = (np.log(Nx) + np.sum(cAm * np.log(cAm))) / np.log(Nx)\n",
    "                r = np.sum(cA * np.exp(1j * cP))\n",
    "                mrl[iP, iA, iT] = np.abs(r) / np.sum(cA)\n",
    "                mu[iP, iA, iT] = np.angle(r)\n",
    "            if Nperm > 1:\n",
    "                MIperm = np.zeros((Nperm, Nt))\n",
    "                Rperm = np.zeros((Nperm, Nt))\n",
    "                for iperm in tqdm(range(2), desc=\"Permutation test\", leave=False):\n",
    "                    tshift = tperm[0] + np.diff(tperm)[0] * np.random.rand()\n",
    "                    nshift = round(tshift * sample_rate)\n",
    "                    Ashift = np.roll(A, nshift)\n",
    "                    for iT in range(Nt):\n",
    "                        t1 = rT[iT]\n",
    "                        t2 = rT[iT] + sbin\n",
    "                        cA = Ashift[t1:t2]\n",
    "                        cAm = np.zeros(Nx)\n",
    "                        for jj in range(Nx):\n",
    "                            cAm[jj] = np.mean(cA[Pbin[:, iT] == jj])\n",
    "                        cAm /= np.sum(cAm)\n",
    "                        cAm[cAm == 0] = 1e-10\n",
    "                        MIperm[iperm, iT] = (np.log(Nx) + np.sum(cAm * np.log(cAm))) / np.log(Nx)\n",
    "                        Rperm[iperm, iT] = np.abs(np.sum(cA * np.exp(1j * cP))) / np.sum(cA)\n",
    "\n",
    "                n = np.sum(MIperm >= np.ones((Nperm, 1)) * np.squeeze(tmi[iP, iA, :]), axis=0)\n",
    "                tmip[iP, iA, :] = (n + 1) / (Nperm + 1)\n",
    "                n = np.sum(Rperm >= np.ones((Nperm, 1)) * np.squeeze(mrl[iP, iA, :]), axis=0)\n",
    "                mrlp[iP, iA, :] = (n + 1) / (Nperm + 1)\n",
    "                \n",
    "    PACmi[ich] = np.concatenate([tmi[..., np.newaxis],\n",
    "                             mrl[..., np.newaxis],\n",
    "                             mu[..., np.newaxis],\n",
    "                             tmip[..., np.newaxis],\n",
    "                             mrlp[..., np.newaxis]], axis=3)"
   ]
  },
  {
   "cell_type": "code",
   "execution_count": 43,
   "id": "806a0df7-c5e6-4018-a84c-4ebd3a735260",
   "metadata": {
    "tags": []
   },
   "outputs": [],
   "source": [
    "PACmi_transposed = np.transpose(PACmi, (4, 3, 2, 1, 0))\n",
    "filename = f\"{root}/{subject}/{subject}_PACmi.h5\"\n",
    "with h5py.File(filename, 'w') as f:\n",
    "    # Save the array to the file\n",
    "    f.create_dataset('PACmi', data=PACmi_transposed)"
   ]
  }
 ],
 "metadata": {
  "kernelspec": {
   "display_name": "Python 3 (ipykernel)",
   "language": "python",
   "name": "python3"
  },
  "language_info": {
   "codemirror_mode": {
    "name": "ipython",
    "version": 3
   },
   "file_extension": ".py",
   "mimetype": "text/x-python",
   "name": "python",
   "nbconvert_exporter": "python",
   "pygments_lexer": "ipython3",
   "version": "3.11.5"
  }
 },
 "nbformat": 4,
 "nbformat_minor": 5
}
